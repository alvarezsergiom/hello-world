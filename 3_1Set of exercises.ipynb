{
 "cells": [
  {
   "cell_type": "markdown",
   "id": "4b3c2639-be03-425e-9d5d-08567246540b",
   "metadata": {},
   "source": [
    "# Exercises"
   ]
  },
  {
   "cell_type": "markdown",
   "id": "ded6c838-c918-4de8-b866-9d412d5f7b31",
   "metadata": {},
   "source": [
    "## 1 Deep question of life\n",
    "In deep.py, implement a program that prompts the user for the answer to the Great Question of Life, the Universe and Everything, outputting Yes if the user inputs 42 or (case-insensitively) forty-two or forty two. Otherwise output No.\n",
    "\n",
    "Hints"
   ]
  },
  {
   "cell_type": "code",
   "execution_count": 20,
   "id": "4ed34108-f3ca-4544-8e81-d7c8daea2f14",
   "metadata": {},
   "outputs": [
    {
     "name": "stdin",
     "output_type": "stream",
     "text": [
      "What's the  answer to the Great Question of Life, the Universe and Everything?  forty two\n"
     ]
    },
    {
     "name": "stdout",
     "output_type": "stream",
     "text": [
      "Yes\n"
     ]
    }
   ],
   "source": [
    "x = input(\"What's the  answer to the Great Question of Life, the Universe and Everything? \")\n",
    "if x == \"42\" or x ==\"forty-two\" or x ==\"forty two\":\n",
    "    print(\"Yes\")\n",
    "else:\n",
    "    print(\"No\")"
   ]
  },
  {
   "cell_type": "markdown",
   "id": "87a38f8e-e2fe-4379-a938-a7127a03b24b",
   "metadata": {},
   "source": [
    "## 2 Bank exercise\n",
    "In season 7, episode 24 of Seinfeld, Kramer visits a bank that promises to give $100 to anyone who isn’t greeted with a “hello.” Kramer is instead greeted with a “hey,” which he insists isn’t a “hello,” and so he asks for $100. The bank’s manager proposes a compromise: “You got a greeting that starts with an ‘h,’ how does $20 sound?” Kramer accepts.\n",
    "\n",
    "In a file called bank.py, implement a program that prompts the user for a greeting. If the greeting starts with “hello”, output $0. If the greeting starts with an “h” (but not “hello”), output $20. Otherwise, output $100. Ignore any leading whitespace in the user’s greeting, and treat the user’s greeting case-insensitively."
   ]
  },
  {
   "cell_type": "code",
   "execution_count": 17,
   "id": "5c07a902-bb2a-473c-9001-f88212628cd0",
   "metadata": {},
   "outputs": [
    {
     "name": "stdin",
     "output_type": "stream",
     "text": [
      "Greeting:  hi\n"
     ]
    },
    {
     "name": "stdout",
     "output_type": "stream",
     "text": [
      "100\n"
     ]
    }
   ],
   "source": [
    "x = str(input(\"Greeting: \"))\n",
    "\n",
    "if x.startswith(\"Hello\") == True :\n",
    "    print(0)\n",
    "elif x.startswith(\"H\") == True :\n",
    "    print(20)\n",
    "else:\n",
    "    print(100)"
   ]
  },
  {
   "cell_type": "markdown",
   "id": "1284a8b5-2a8b-43a4-9242-43b40e0684d5",
   "metadata": {},
   "source": [
    "## 3 File extensions exercise\n",
    "Even though Windows and macOS sometimes hide them, most files have file extensions, a suffix that starts with a period (.) at the end of their name. For instance, file names for GIFs end with .gif, and file names for JPEGs end with .jpg or .jpeg. When you double-click on a file to open it, your computer uses its file extension to determine which program to launch.\n",
    "\n",
    "Web browsers, by contrast, rely on media types, formerly known as MIME types, to determine how to display files that live on the web. When you download a file from a web server, that server sends an HTTP header, along with the file itself, indicating the file’s media type. For instance, the media type for a GIF is image/gif, and the media type for a JPEG is image/jpeg. To determine the media type for a file, a web server typically looks at the file’s extension, mapping one to the other.\n",
    "\n",
    "See developer.mozilla.org/en-US/docs/Web/HTTP/Basics_of_HTTP/MIME_types/Common_types for common types.\n",
    "\n",
    "In a file called extensions.py, implement a program that prompts the user for the name of a file and then outputs that file’s media type if the file’s name ends, case-insensitively, in any of these suffixes:\n",
    "\n",
    ".gif\n",
    ".jpg\n",
    ".jpeg\n",
    ".png\n",
    ".pdf\n",
    ".txt\n",
    ".zip\n",
    "If the file’s name ends with some other suffix or has no suffix at all, output application/octet-stream instead, which is a common default."
   ]
  },
  {
   "cell_type": "code",
   "execution_count": 22,
   "id": "1846e0d8-e7d8-4452-a086-c845168d9967",
   "metadata": {},
   "outputs": [
    {
     "name": "stdin",
     "output_type": "stream",
     "text": [
      "File name:  sergio.jpeg\n"
     ]
    },
    {
     "name": "stdout",
     "output_type": "stream",
     "text": [
      "image/jpeg\n"
     ]
    }
   ],
   "source": [
    "x = str(input(\"File name: \"))\n",
    "if x.endswith(\".gif\") == True :\n",
    "    print(\"image/gif\")\n",
    "elif x.endswith(\".jpg\") or x.endswith(\".jpeg\")== True:\n",
    "    print(\"image/jpeg\")\n",
    "elif x.endswith(\".png\") == True:\n",
    "    print(\"image/png\")\n",
    "elif x.endswith(\".pdf\") == True:\n",
    "    print(\"application/pdf\")\n",
    "elif x.endswith(\".txt\") == True:\n",
    "    print(\"text/plain\")\n",
    "elif x.endswith(\".zip\") == True:\n",
    "    print(\"application/zip\")\n",
    "else:\n",
    "    print(\"application/octet-stream\")"
   ]
  },
  {
   "cell_type": "markdown",
   "id": "33affcf0-3e45-48fb-b49f-cb0b2a80b973",
   "metadata": {},
   "source": [
    "## 4 Math interpreter exercise\n",
    "Python already supports math, whereby you can write code to add, subtract, multiply, or divide values and even variables. But let’s write a program that enables users to do math, even without knowing Python.\n",
    "\n",
    "In a file called interpreter.py, implement a program that prompts the user for an arithmetic expression and then calculates and outputs the result as a floating-point value formatted to one decimal place. Assume that the user’s input will be formatted as x y z, with one space between x and y and one space between y and z, wherein:\n",
    "\n",
    "x is an integer\n",
    "y is +, -, *, or /\n",
    "z is an integer\n",
    "For instance, if the user inputs 1 + 1, your program should output 2.0. Assume that, if y is /, then z will not be 0.\n",
    "\n",
    "Note that, just as python itself is an interpreter for Python, so will your interpreter.py be an interpreter for math!"
   ]
  },
  {
   "cell_type": "code",
   "execution_count": 23,
   "id": "4904eed1-8908-438f-9cb4-3d7ecb2d4be7",
   "metadata": {},
   "outputs": [
    {
     "name": "stdin",
     "output_type": "stream",
     "text": [
      "Expression:  2 + 3\n"
     ]
    },
    {
     "name": "stdout",
     "output_type": "stream",
     "text": [
      "5.0\n"
     ]
    }
   ],
   "source": [
    "n = input(\"Expression: \")\n",
    "x, y, z = n.split(\" \")\n",
    "if y == \"+\":\n",
    "    print(float(x) + float(z))\n",
    "elif y == \"-\":\n",
    "    print(float(x) - float(z))\n",
    "elif y == \"*\":\n",
    "    print (float(x) * float(z))\n",
    "else:\n",
    "    print (round(float(x) / float(z), 1))"
   ]
  },
  {
   "cell_type": "markdown",
   "id": "5ae812de-d4bb-4ab0-b6e0-da285f1b1d83",
   "metadata": {},
   "source": [
    "## 5 Meal exercise\n",
    "Suppose that you’re in a country where it’s customary to eat breakfast between 7:00 and 8:00, lunch between 12:00 and 13:00, and dinner between 18:00 and 19:00. Wouldn’t it be nice if you had a program that could tell you what to eat when?\n",
    "\n",
    "In meal.py, implement a program that prompts the user for a time and outputs whether it’s breakfast time, lunch time, or dinner time. If it’s not time for a meal, don’t output anything at all. Assume that the user’s input will be formatted in 24-hour time as #:## or ##:##. And assume that each meal’s time range is inclusive. For instance, whether it’s 7:00, 7:01, 7:59, or 8:00, or anytime in between, it’s time for breakfast.\n",
    "\n",
    "Structure your program per the below, wherein convert is a function (that can be called by main) that converts time, a str in 24-hour format, to the corresponding number of hours as a float. For instance, given a time like \"7:30\" (i.e., 7 hours and 30 minutes), convert should return 7.5 (i.e., 7.5 hours)."
   ]
  },
  {
   "cell_type": "code",
   "execution_count": 14,
   "id": "0a69846d-86f9-430c-a651-ff4381772117",
   "metadata": {},
   "outputs": [
    {
     "name": "stdin",
     "output_type": "stream",
     "text": [
      "What time is it?  12:03\n"
     ]
    },
    {
     "name": "stdout",
     "output_type": "stream",
     "text": [
      "lunch time\n"
     ]
    }
   ],
   "source": [
    "# Defining main function\n",
    "def main():\n",
    "    # asking user input\n",
    "    x = input(\"What time is it? \")\n",
    "    # calling convert function\n",
    "    convert(x)\n",
    "\n",
    "# defining convert function\n",
    "def convert(time):\n",
    "    hours, minutes = time.split(\":\")\n",
    "    conv = float(hours) + float(minutes)/60\n",
    "\n",
    "    if 7 <= conv <= 8:\n",
    "        print(\"breakfast time\")\n",
    "    elif 12<= conv<=13:\n",
    "        print(\"lunch time\")\n",
    "    elif 18<= conv <=19:\n",
    "        print(\"dinner time\")\n",
    "    else:\n",
    "        print()\n",
    "\n",
    "\n",
    "if __name__ == \"__main__\":\n",
    "    main()"
   ]
  },
  {
   "cell_type": "markdown",
   "id": "cc65797f-c342-4b67-9ab7-eac5dc45f32c",
   "metadata": {},
   "source": [
    "### Another way"
   ]
  },
  {
   "cell_type": "code",
   "execution_count": 10,
   "id": "a6a74d73-a842-4410-a77a-e1b6ac715050",
   "metadata": {},
   "outputs": [
    {
     "name": "stdin",
     "output_type": "stream",
     "text": [
      "What time is it?  8:00\n"
     ]
    },
    {
     "name": "stdout",
     "output_type": "stream",
     "text": [
      "breakfast time\n"
     ]
    }
   ],
   "source": [
    "# Defining main function\n",
    "def main():\n",
    "    # asking user input\n",
    "    x = input(\"What time is it? \")\n",
    "    # calling convert function\n",
    "    ans = convert(x)\n",
    "    if 7 <= ans <= 8:\n",
    "        print(\"breakfast time\")\n",
    "    elif 12<= ans <=13:\n",
    "        print(\"lunch time\")\n",
    "    elif 18<= ans <=19:\n",
    "        print(\"dinner time\")\n",
    "    \n",
    "# defining convert function\n",
    "def convert(time):\n",
    "    hours, minutes = time.split(\":\")\n",
    "    min_conv = float(minutes) / 60\n",
    "    return float(hours) + min_conv\n",
    "    #conv = float(hours) + float(minutes)/60\n",
    "\n",
    "   \n",
    "\n",
    "\n",
    "if __name__ == \"__main__\":\n",
    "    main()"
   ]
  },
  {
   "cell_type": "code",
   "execution_count": null,
   "id": "a31e0165-3cd5-4239-a9d8-2df57f62d197",
   "metadata": {},
   "outputs": [],
   "source": []
  }
 ],
 "metadata": {
  "kernelspec": {
   "display_name": "Python 3 (ipykernel)",
   "language": "python",
   "name": "python3"
  },
  "language_info": {
   "codemirror_mode": {
    "name": "ipython",
    "version": 3
   },
   "file_extension": ".py",
   "mimetype": "text/x-python",
   "name": "python",
   "nbconvert_exporter": "python",
   "pygments_lexer": "ipython3",
   "version": "3.9.16"
  },
  "toc-autonumbering": true,
  "toc-showmarkdowntxt": false
 },
 "nbformat": 4,
 "nbformat_minor": 5
}
